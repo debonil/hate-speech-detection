{
 "cells": [
  {
   "cell_type": "code",
   "execution_count": 13,
   "metadata": {},
   "outputs": [
    {
     "name": "stdout",
     "output_type": "stream",
     "text": [
      "openai tools fine_tunes.prepare_data -f data/SBIC.v2.agg.trn.tiny.promted.csv\n",
      "openai tools fine_tunes.prepare_data -f data/SBIC.v2.agg.dev.tiny.promted.csv\n",
      "openai tools fine_tunes.prepare_data -f data/SBIC.v2.agg.tst.tiny.promted.csv\n"
     ]
    }
   ],
   "source": [
    "import pandas as pd\n",
    "import os\n",
    "\n",
    "file_types = ['trn', 'dev', 'tst']\n",
    "for f in file_types:\n",
    "    src_data_df = pd.read_csv(f'../data/SBIC.v2.agg.{f}.csv').sample(frac=0.2)\n",
    "    result_df = pd.DataFrame()\n",
    "\n",
    "    result_df['prompt'] = src_data_df['post']\n",
    "    result_df['completion'] = src_data_df['offensiveYN'].apply(lambda x: 1 if x > 0.5 else 0)\n",
    "\n",
    "    result_df.to_csv(f'../data/SBIC.v2.agg.{f}.tiny.promted.csv', index=False)\n",
    "    print(f'openai tools fine_tunes.prepare_data -f data/SBIC.v2.agg.{f}.tiny.promted.csv')"
   ]
  },
  {
   "cell_type": "code",
   "execution_count": 10,
   "metadata": {},
   "outputs": [
    {
     "name": "stdout",
     "output_type": "stream",
     "text": [
      "^C\n"
     ]
    }
   ],
   "source": [
    "!openai tools fine_tunes.prepare_data -f ../data/SBIC.v2.agg.trn.promted.csv"
   ]
  },
  {
   "cell_type": "code",
   "execution_count": null,
   "metadata": {},
   "outputs": [],
   "source": [
    "!openai api fine_tunes.create -t \"data/SBIC.v2.agg.trn.promted_prepared.jsonl\" -v \"data/SBIC.v2.agg.dev.promted_prepared.jsonl\"  --compute_classification_metrics --classification_positive_class \" 1\" -m davinci"
   ]
  },
  {
   "cell_type": "code",
   "execution_count": 6,
   "metadata": {},
   "outputs": [
    {
     "name": "stderr",
     "output_type": "stream",
     "text": [
      "\u001b[91mError:\u001b[0m No results file available for fine-tune ft-HGqkTToaXFMc4RUPlhTyYlbH\n"
     ]
    }
   ],
   "source": [
    "!openai api fine_tunes.results -i ft-HGqkTToaXFMc4RUPlhTyYlbH > result.csv"
   ]
  },
  {
   "cell_type": "code",
   "execution_count": null,
   "metadata": {},
   "outputs": [],
   "source": []
  }
 ],
 "metadata": {
  "kernelspec": {
   "display_name": "Python 3",
   "language": "python",
   "name": "python3"
  },
  "language_info": {
   "codemirror_mode": {
    "name": "ipython",
    "version": 3
   },
   "file_extension": ".py",
   "mimetype": "text/x-python",
   "name": "python",
   "nbconvert_exporter": "python",
   "pygments_lexer": "ipython3",
   "version": "3.10.7"
  },
  "orig_nbformat": 4
 },
 "nbformat": 4,
 "nbformat_minor": 2
}
