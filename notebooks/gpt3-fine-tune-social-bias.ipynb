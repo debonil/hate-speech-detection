{
 "cells": [
  {
   "cell_type": "code",
   "execution_count": 1,
   "metadata": {},
   "outputs": [],
   "source": [
    "import openai\n",
    "import wandb\n",
    "from pathlib import Path\n",
    "import pandas as pd\n",
    "import numpy as np\n",
    "import json\n",
    "from tqdm import tqdm"
   ]
  },
  {
   "cell_type": "code",
   "execution_count": 27,
   "metadata": {},
   "outputs": [
    {
     "name": "stdout",
     "output_type": "stream",
     "text": [
      "🎉 wandb sync completed successfully\n"
     ]
    },
    {
     "name": "stderr",
     "output_type": "stream",
     "text": [
      "wandb: Currently logged in as: ghosh-11. Use `wandb login --relogin` to force relogin\n",
      "wandb: Tracking run with wandb version 0.15.2\n",
      "wandb: Run data is saved locally in g:\\MTechClasses\\DL-Ops\\Project\\hate-speech-detection\\notebooks\\wandb\\run-20230513_111953-ft-v6g0Kid5b6R8xO5LiylaTmDv\n",
      "wandb: Run `wandb offline` to turn off syncing.\n",
      "wandb: Syncing run ft-v6g0Kid5b6R8xO5LiylaTmDv\n",
      "wandb:  View project at https://wandb.ai/ghosh-11/GPT-3\n",
      "wandb:  View run at https://wandb.ai/ghosh-11/GPT-3/runs/ft-v6g0Kid5b6R8xO5LiylaTmDv\n",
      "wandb: Waiting for W&B process to finish... (success).\n",
      "wandb: \n",
      "wandb: Run history:\n",
      "wandb:             elapsed_examples ▁▁▁▂▂▂▂▂▂▃▃▃▃▃▄▄▄▄▄▄▅▅▅▅▅▅▆▆▆▆▆▇▇▇▇▇▇███\n",
      "wandb:               elapsed_tokens ▁▁▁▂▂▂▂▂▂▃▃▃▃▃▃▄▄▄▄▄▅▅▅▅▅▅▆▆▆▆▆▇▇▇▇▇▇███\n",
      "wandb:                training_loss █▂▁▂▁▁▁▁▁▁▁▂▁▁▁▂▂▂▁▁▁▂▁▁▁▁▁▁▁▁▁▁▁▁▁▂▁▁▁▁\n",
      "wandb:   training_sequence_accuracy ▁▅▅▁██▅▅██▅▅█▅▁▅▅▁▅█▅▅█▅▅███▅██▅█▅█▅█▅▅▅\n",
      "wandb:      training_token_accuracy ▁▆▇▆██▇▇██▇▇█▇▅▇▆▅▇█▆▇█▇▇███▇██▇█▇█▆█▇▅▇\n",
      "wandb:              validation_loss █▁▂▁▁▁▁▁▁▁▁▁▁▁▁▁▁▁▁▁▁▁▁▁▁▁▁▁▁▁▁▁▁▂▁▁▁▁▁▁\n",
      "wandb: validation_sequence_accuracy ▁▅▅█▅▅██▅█▅▅▅████▅█▅███▅█▅▅█▅█▅▅▅▁▁█▅▅▅█\n",
      "wandb:    validation_token_accuracy ▁▇▇█▇▇██▇█▇▇▇████▇█▇███▇█▇▇█▇█▇▇▇▇▇█▇▇▇█\n",
      "wandb: \n",
      "wandb: Run summary:\n",
      "wandb:             elapsed_examples 3544.0\n",
      "wandb:               elapsed_tokens 174696.0\n",
      "wandb:             fine_tuned_model curie:ft-personal-20...\n",
      "wandb:                       status succeeded\n",
      "wandb:                training_loss 0.05758\n",
      "wandb:   training_sequence_accuracy 0.5\n",
      "wandb:      training_token_accuracy 0.91667\n",
      "wandb:              validation_loss 0.02571\n",
      "wandb: validation_sequence_accuracy 1.0\n",
      "wandb:    validation_token_accuracy 1.0\n",
      "wandb: \n",
      "wandb:  View run ft-v6g0Kid5b6R8xO5LiylaTmDv at: https://wandb.ai/ghosh-11/GPT-3/runs/ft-v6g0Kid5b6R8xO5LiylaTmDv\n",
      "wandb: Synced 4 W&B file(s), 0 media file(s), 5 artifact file(s) and 0 other file(s)\n",
      "wandb: Find logs at: .\\wandb\\run-20230513_111953-ft-v6g0Kid5b6R8xO5LiylaTmDv\\logs\n"
     ]
    }
   ],
   "source": [
    "!openai wandb sync\n"
   ]
  },
  {
   "cell_type": "code",
   "execution_count": 6,
   "metadata": {},
   "outputs": [
    {
     "name": "stdout",
     "output_type": "stream",
     "text": [
      "openai tools fine_tunes.prepare_data -f data/SBIC.v2.agg.trn.tiny.social-bias.promted_prepared.jsonl\n",
      "openai tools fine_tunes.prepare_data -f data/SBIC.v2.agg.dev.tiny.social-bias.promted_prepared.jsonl\n",
      "openai tools fine_tunes.prepare_data -f data/SBIC.v2.agg.tst.tiny.social-bias.promted_prepared.jsonl\n"
     ]
    }
   ],
   "source": [
    "import pandas as pd\n",
    "import os\n",
    "\n",
    "file_types = ['trn', 'dev', 'tst']\n",
    "for f in file_types:\n",
    "    src_data_df = pd.read_csv(f'../data/SBIC.v2.agg.{f}.csv').sample(frac=0.05)\n",
    "    result_df = pd.DataFrame()\n",
    "    # print(src_data_df.sample(2))\n",
    "    result_df['prompt'] = src_data_df['post'].apply(\n",
    "        lambda x: str(x)+'\\n\\n###\\n\\n')\n",
    "    result_df['completion'] = src_data_df.apply(\n",
    "        lambda x: f''' { 'offY' if x['offensiveYN'] > 0.5 else 'offN'}\\n{ 'biasY' if x['hasBiasedImplication'] > 0.5 else 'biasN'}''', axis=1)\n",
    "\n",
    "    result_df.to_json(\n",
    "        f'../data/SBIC.v2.agg.{f}.tiny.social-bias.promted_prepared.jsonl', orient='records', lines=True)\n",
    "    print(\n",
    "        f'openai tools fine_tunes.prepare_data -f data/SBIC.v2.agg.{f}.tiny.social-bias.promted_prepared.jsonl')"
   ]
  },
  {
   "cell_type": "code",
   "execution_count": 4,
   "metadata": {},
   "outputs": [
    {
     "name": "stdout",
     "output_type": "stream",
     "text": [
      "^C\n"
     ]
    }
   ],
   "source": [
    "!openai tools fine_tunes.prepare_data -f data/SBIC.v2.agg.dev.tiny.social-bias.promted_prepared.jsonl\n"
   ]
  },
  {
   "cell_type": "code",
   "execution_count": null,
   "metadata": {},
   "outputs": [],
   "source": [
    "!openai api fine_tunes.create - t \"data/SBIC.v2.agg.trn.tiny.social-bias.promted_prepared.jsonl\" - v \"data/SBIC.v2.agg.dev.tiny.social-bias.promted_prepared.jsonl\" -m curie --n_epochs 2 --learning_rate_multiplier 0.05\n"
   ]
  },
  {
   "cell_type": "code",
   "execution_count": 7,
   "metadata": {},
   "outputs": [
    {
     "name": "stderr",
     "output_type": "stream",
     "text": [
      "  % Total    % Received % Xferd  Average Speed   Time    Time     Time  Current\n",
      "                                 Dload  Upload   Total   Spent    Left  Speed\n",
      "\n",
      "  0     0    0     0    0     0      0      0 --:--:-- --:--:-- --:--:--     0\n",
      "100   245  100   245    0     0    342      0 --:--:-- --:--:-- --:--:--   342\n",
      "100   245  100   245    0     0    342      0 --:--:-- --:--:-- --:--:--   342\n"
     ]
    }
   ],
   "source": [
    "curl https://api.openai.com/v1/fine-tunes/ft-v6g0Kid5b6R8xO5LiylaTmDv -H \"Authorization: Bearer $OPENAI_API_KEY\" > results/fine-tuned-curie-social-bias.json "
   ]
  },
  {
   "cell_type": "code",
   "execution_count": 6,
   "metadata": {},
   "outputs": [
    {
     "name": "stderr",
     "output_type": "stream",
     "text": [
      "\u001b[91mError:\u001b[0m No results file available for fine-tune ft-HGqkTToaXFMc4RUPlhTyYlbH\n"
     ]
    }
   ],
   "source": [
    "!openai api fine_tunes.results -i ft-v6g0Kid5b6R8xO5LiylaTmDv > results/result-social-bias.csv \n"
   ]
  },
  {
   "cell_type": "code",
   "execution_count": 10,
   "metadata": {},
   "outputs": [
    {
     "data": {
      "text/html": [
       "<div>\n",
       "<style scoped>\n",
       "    .dataframe tbody tr th:only-of-type {\n",
       "        vertical-align: middle;\n",
       "    }\n",
       "\n",
       "    .dataframe tbody tr th {\n",
       "        vertical-align: top;\n",
       "    }\n",
       "\n",
       "    .dataframe thead th {\n",
       "        text-align: right;\n",
       "    }\n",
       "</style>\n",
       "<table border=\"1\" class=\"dataframe\">\n",
       "  <thead>\n",
       "    <tr style=\"text-align: right;\">\n",
       "      <th></th>\n",
       "      <th>step</th>\n",
       "      <th>elapsed_tokens</th>\n",
       "      <th>elapsed_examples</th>\n",
       "      <th>training_loss</th>\n",
       "      <th>training_sequence_accuracy</th>\n",
       "      <th>training_token_accuracy</th>\n",
       "      <th>validation_loss</th>\n",
       "      <th>validation_sequence_accuracy</th>\n",
       "      <th>validation_token_accuracy</th>\n",
       "    </tr>\n",
       "  </thead>\n",
       "  <tbody>\n",
       "    <tr>\n",
       "      <th>0</th>\n",
       "      <td>1</td>\n",
       "      <td>50</td>\n",
       "      <td>2</td>\n",
       "      <td>2.914429</td>\n",
       "      <td>0.0</td>\n",
       "      <td>0.000000</td>\n",
       "      <td>1.393313</td>\n",
       "      <td>0.0</td>\n",
       "      <td>0.0</td>\n",
       "    </tr>\n",
       "    <tr>\n",
       "      <th>1</th>\n",
       "      <td>2</td>\n",
       "      <td>180</td>\n",
       "      <td>4</td>\n",
       "      <td>1.101520</td>\n",
       "      <td>0.0</td>\n",
       "      <td>0.000000</td>\n",
       "      <td>NaN</td>\n",
       "      <td>NaN</td>\n",
       "      <td>NaN</td>\n",
       "    </tr>\n",
       "    <tr>\n",
       "      <th>2</th>\n",
       "      <td>3</td>\n",
       "      <td>262</td>\n",
       "      <td>6</td>\n",
       "      <td>1.719421</td>\n",
       "      <td>0.0</td>\n",
       "      <td>0.000000</td>\n",
       "      <td>NaN</td>\n",
       "      <td>NaN</td>\n",
       "      <td>NaN</td>\n",
       "    </tr>\n",
       "    <tr>\n",
       "      <th>3</th>\n",
       "      <td>4</td>\n",
       "      <td>344</td>\n",
       "      <td>8</td>\n",
       "      <td>1.645779</td>\n",
       "      <td>0.0</td>\n",
       "      <td>0.000000</td>\n",
       "      <td>NaN</td>\n",
       "      <td>NaN</td>\n",
       "      <td>NaN</td>\n",
       "    </tr>\n",
       "    <tr>\n",
       "      <th>4</th>\n",
       "      <td>5</td>\n",
       "      <td>442</td>\n",
       "      <td>10</td>\n",
       "      <td>1.364400</td>\n",
       "      <td>0.0</td>\n",
       "      <td>0.000000</td>\n",
       "      <td>NaN</td>\n",
       "      <td>NaN</td>\n",
       "      <td>NaN</td>\n",
       "    </tr>\n",
       "    <tr>\n",
       "      <th>...</th>\n",
       "      <td>...</td>\n",
       "      <td>...</td>\n",
       "      <td>...</td>\n",
       "      <td>...</td>\n",
       "      <td>...</td>\n",
       "      <td>...</td>\n",
       "      <td>...</td>\n",
       "      <td>...</td>\n",
       "      <td>...</td>\n",
       "    </tr>\n",
       "    <tr>\n",
       "      <th>1767</th>\n",
       "      <td>1768</td>\n",
       "      <td>174240</td>\n",
       "      <td>3536</td>\n",
       "      <td>0.065788</td>\n",
       "      <td>0.5</td>\n",
       "      <td>0.916667</td>\n",
       "      <td>NaN</td>\n",
       "      <td>NaN</td>\n",
       "      <td>NaN</td>\n",
       "    </tr>\n",
       "    <tr>\n",
       "      <th>1768</th>\n",
       "      <td>1769</td>\n",
       "      <td>174338</td>\n",
       "      <td>3538</td>\n",
       "      <td>0.023977</td>\n",
       "      <td>1.0</td>\n",
       "      <td>1.000000</td>\n",
       "      <td>0.025706</td>\n",
       "      <td>1.0</td>\n",
       "      <td>1.0</td>\n",
       "    </tr>\n",
       "    <tr>\n",
       "      <th>1769</th>\n",
       "      <td>1770</td>\n",
       "      <td>174436</td>\n",
       "      <td>3540</td>\n",
       "      <td>0.032578</td>\n",
       "      <td>1.0</td>\n",
       "      <td>1.000000</td>\n",
       "      <td>NaN</td>\n",
       "      <td>NaN</td>\n",
       "      <td>NaN</td>\n",
       "    </tr>\n",
       "    <tr>\n",
       "      <th>1770</th>\n",
       "      <td>1771</td>\n",
       "      <td>174614</td>\n",
       "      <td>3542</td>\n",
       "      <td>0.029821</td>\n",
       "      <td>0.5</td>\n",
       "      <td>0.833333</td>\n",
       "      <td>NaN</td>\n",
       "      <td>NaN</td>\n",
       "      <td>NaN</td>\n",
       "    </tr>\n",
       "    <tr>\n",
       "      <th>1771</th>\n",
       "      <td>1772</td>\n",
       "      <td>174696</td>\n",
       "      <td>3544</td>\n",
       "      <td>0.057580</td>\n",
       "      <td>0.5</td>\n",
       "      <td>0.916667</td>\n",
       "      <td>NaN</td>\n",
       "      <td>NaN</td>\n",
       "      <td>NaN</td>\n",
       "    </tr>\n",
       "  </tbody>\n",
       "</table>\n",
       "<p>1772 rows × 9 columns</p>\n",
       "</div>"
      ],
      "text/plain": [
       "      step  elapsed_tokens  elapsed_examples  training_loss  \\\n",
       "0        1              50                 2       2.914429   \n",
       "1        2             180                 4       1.101520   \n",
       "2        3             262                 6       1.719421   \n",
       "3        4             344                 8       1.645779   \n",
       "4        5             442                10       1.364400   \n",
       "...    ...             ...               ...            ...   \n",
       "1767  1768          174240              3536       0.065788   \n",
       "1768  1769          174338              3538       0.023977   \n",
       "1769  1770          174436              3540       0.032578   \n",
       "1770  1771          174614              3542       0.029821   \n",
       "1771  1772          174696              3544       0.057580   \n",
       "\n",
       "      training_sequence_accuracy  training_token_accuracy  validation_loss  \\\n",
       "0                            0.0                 0.000000         1.393313   \n",
       "1                            0.0                 0.000000              NaN   \n",
       "2                            0.0                 0.000000              NaN   \n",
       "3                            0.0                 0.000000              NaN   \n",
       "4                            0.0                 0.000000              NaN   \n",
       "...                          ...                      ...              ...   \n",
       "1767                         0.5                 0.916667              NaN   \n",
       "1768                         1.0                 1.000000         0.025706   \n",
       "1769                         1.0                 1.000000              NaN   \n",
       "1770                         0.5                 0.833333              NaN   \n",
       "1771                         0.5                 0.916667              NaN   \n",
       "\n",
       "      validation_sequence_accuracy  validation_token_accuracy  \n",
       "0                              0.0                        0.0  \n",
       "1                              NaN                        NaN  \n",
       "2                              NaN                        NaN  \n",
       "3                              NaN                        NaN  \n",
       "4                              NaN                        NaN  \n",
       "...                            ...                        ...  \n",
       "1767                           NaN                        NaN  \n",
       "1768                           1.0                        1.0  \n",
       "1769                           NaN                        NaN  \n",
       "1770                           NaN                        NaN  \n",
       "1771                           NaN                        NaN  \n",
       "\n",
       "[1772 rows x 9 columns]"
      ]
     },
     "execution_count": 10,
     "metadata": {},
     "output_type": "execute_result"
    }
   ],
   "source": [
    "results = pd.read_csv('../results/result-social-bias.csv')\n",
    "results"
   ]
  },
  {
   "cell_type": "code",
   "execution_count": 15,
   "metadata": {},
   "outputs": [
    {
     "data": {
      "text/plain": [
       "<AxesSubplot:>"
      ]
     },
     "execution_count": 15,
     "metadata": {},
     "output_type": "execute_result"
    },
    {
     "data": {
      "image/png": "[encoded data removed]",
      "text/plain": [
       "<Figure size 640x480 with 1 Axes>"
      ]
     },
     "metadata": {},
     "output_type": "display_data"
    }
   ],
   "source": [
    "results[results['training_token_accuracy'].notnull()]['training_token_accuracy'].plot()\n",
    "results[results['validation_token_accuracy'].notnull()]['validation_token_accuracy'].plot()"
   ]
  },
  {
   "cell_type": "code",
   "execution_count": 16,
   "metadata": {},
   "outputs": [
    {
     "data": {
      "text/plain": [
       "<AxesSubplot:>"
      ]
     },
     "execution_count": 16,
     "metadata": {},
     "output_type": "execute_result"
    },
    {
     "data": {
      "image/png": "[encoded data removed]",
      "text/plain": [
       "<Figure size 640x480 with 1 Axes>"
      ]
     },
     "metadata": {},
     "output_type": "display_data"
    }
   ],
   "source": [
    "\n",
    "results[results['training_loss'].notnull()]['training_loss'].plot()\n",
    "results[results['validation_loss'].notnull()]['validation_loss'].plot()"
   ]
  },
  {
   "attachments": {},
   "cell_type": "markdown",
   "metadata": {},
   "source": [
    "Using the model"
   ]
  },
  {
   "cell_type": "code",
   "execution_count": 18,
   "metadata": {},
   "outputs": [
    {
     "data": {
      "text/html": [
       "<div>\n",
       "<style scoped>\n",
       "    .dataframe tbody tr th:only-of-type {\n",
       "        vertical-align: middle;\n",
       "    }\n",
       "\n",
       "    .dataframe tbody tr th {\n",
       "        vertical-align: top;\n",
       "    }\n",
       "\n",
       "    .dataframe thead th {\n",
       "        text-align: right;\n",
       "    }\n",
       "</style>\n",
       "<table border=\"1\" class=\"dataframe\">\n",
       "  <thead>\n",
       "    <tr style=\"text-align: right;\">\n",
       "      <th></th>\n",
       "      <th>prompt</th>\n",
       "      <th>completion</th>\n",
       "    </tr>\n",
       "  </thead>\n",
       "  <tbody>\n",
       "    <tr>\n",
       "      <th>0</th>\n",
       "      <td>what do you do after getting the thightiest pu...</td>\n",
       "      <td>offY\\nbiasN</td>\n",
       "    </tr>\n",
       "    <tr>\n",
       "      <th>1</th>\n",
       "      <td>Four-year-old boy:: Why did she get to walk in...</td>\n",
       "      <td>offY\\nbiasN</td>\n",
       "    </tr>\n",
       "    <tr>\n",
       "      <th>2</th>\n",
       "      <td>\"@Vodkantots I refer to them as, \"\"fucknutz\"\"....</td>\n",
       "      <td>offY\\nbiasY</td>\n",
       "    </tr>\n",
       "    <tr>\n",
       "      <th>3</th>\n",
       "      <td>Broken Dishwasher Husband: The dishwasher is b...</td>\n",
       "      <td>offY\\nbiasN</td>\n",
       "    </tr>\n",
       "    <tr>\n",
       "      <th>4</th>\n",
       "      <td>The fly on the wall,\\nBy the stairs, down the ...</td>\n",
       "      <td>offN\\nbiasY</td>\n",
       "    </tr>\n",
       "  </tbody>\n",
       "</table>\n",
       "</div>"
      ],
      "text/plain": [
       "                                              prompt    completion\n",
       "0  what do you do after getting the thightiest pu...   offY\\nbiasN\n",
       "1  Four-year-old boy:: Why did she get to walk in...   offY\\nbiasN\n",
       "2  \"@Vodkantots I refer to them as, \"\"fucknutz\"\"....   offY\\nbiasY\n",
       "3  Broken Dishwasher Husband: The dishwasher is b...   offY\\nbiasN\n",
       "4  The fly on the wall,\\nBy the stairs, down the ...   offN\\nbiasY"
      ]
     },
     "execution_count": 18,
     "metadata": {},
     "output_type": "execute_result"
    }
   ],
   "source": [
    "test = pd.read_json(\n",
    "    '../data/SBIC.v2.agg.tst.tiny.social-bias.promted_prepared.jsonl', orient='records', lines=True)\n",
    "test.head()\n"
   ]
  },
  {
   "cell_type": "code",
   "execution_count": 31,
   "metadata": {},
   "outputs": [
    {
     "data": {
      "text/plain": [
       "' offY\\nbiasY'"
      ]
     },
     "execution_count": 31,
     "metadata": {},
     "output_type": "execute_result"
    }
   ],
   "source": [
    "\n",
    "import openai\n",
    "ft_model = 'curie:ft-personal-2023-05-13-05-29-59'\n",
    "\n",
    "\n",
    "def inferGPT3FineTuned(input):\n",
    "    res = openai.Completion.create(\n",
    "        model=ft_model, prompt=input, max_tokens=6, temperature=0)\n",
    "    return res['choices'][0]['text']\n",
    "\n",
    "\n",
    "inferGPT3FineTuned(test['prompt'][2])\n"
   ]
  },
  {
   "cell_type": "code",
   "execution_count": 25,
   "metadata": {},
   "outputs": [
    {
     "name": "stdout",
     "output_type": "stream",
     "text": [
      "\"@Vodkantots I refer to them as, \"\"fucknutz\"\". As in, \"\"hey fucknutz it's a 4-way. Fucking go, now!\"\"\"\n",
      "\n",
      "###\n",
      "\n",
      "\n"
     ]
    },
    {
     "data": {
      "text/plain": [
       "<OpenAIObject at 0x15b7225e160> JSON: {\n",
       "  \" Off\": -17.418987,\n",
       "  \" after\": -17.47779,\n",
       "  \" off\": -1.8841804e-07,\n",
       "  \"off\": -16.520105\n",
       "}"
      ]
     },
     "execution_count": 25,
     "metadata": {},
     "output_type": "execute_result"
    }
   ],
   "source": [
    "print(test['prompt'][2])\n",
    "res = openai.Completion.create(\n",
    "    model=ft_model, prompt=test['prompt'][2], max_tokens=4, temperature=0, logprobs=4)\n",
    "res['choices'][0]['logprobs']['top_logprobs'][0]\n"
   ]
  },
  {
   "cell_type": "code",
   "execution_count": 35,
   "metadata": {},
   "outputs": [],
   "source": [
    "from sklearn import metrics\n",
    "import seaborn as sns\n",
    "# sns.set(rc={'axes.facecolor': 'lightblue', 'figure.facecolor': 'lightblue'})\n",
    "import pandas as pd\n",
    "import matplotlib.pyplot as plt\n",
    "import time\n",
    "\n",
    "\n",
    "def confusionMatrixAndAccuracyReport(Y_test, Y_pred, classes, title=''):\n",
    "    cm = metrics.confusion_matrix(Y_test, Y_pred)\n",
    "    overallAccuracy = metrics.accuracy_score(Y_test, Y_pred)\n",
    "\n",
    "    classwiseAccuracy = cm.diagonal()/cm.sum(axis=1)\n",
    "\n",
    "    f1_score = metrics.f1_score(Y_test, Y_pred, average='weighted')\n",
    "\n",
    "    plt.figure(figsize=(10, 10))\n",
    "    plt.title(\n",
    "        f'{title} : Accuracy : {overallAccuracy*100:3.2f}% | F1 Score : {f1_score*100:3.2f}% ', size=14)\n",
    "    plt.ylabel('Actual label')\n",
    "    plt.xlabel('Predicted label')\n",
    "    cm = pd.DataFrame(cm, index=classes, columns=classes)\n",
    "    cm.index.name = 'True Label'\n",
    "    cm.columns.name = 'Predicted Label'\n",
    "    sns.heatmap(data=cm, annot=True, square=True,  cmap='Blues',\n",
    "                fmt='g', xticklabels=classes, yticklabels=classes)\n",
    "\n",
    "    # plt.show()\n",
    "    plt.savefig(\n",
    "        f'../results/confusion_mat_{title}.png', bbox_inches='tight')\n",
    "    print(f'Accuracy: {overallAccuracy*100:3.3f}%')\n",
    "    print(f'F1 Score: {f1_score*100:3.3f}%')\n",
    "    classwiseAccuracy_df = pd.DataFrame(\n",
    "        data=[classwiseAccuracy], columns=classes)\n",
    "    print(\n",
    "        f'\\nClasswise Accuracy Score: \\n{classwiseAccuracy_df.to_markdown(index=False)}')\n",
    "    print('\\nConfusion Matrix:')\n",
    "    print(cm.to_markdown())\n",
    "    #wandb.log({\"accuracy_score\": overallAccuracy, \"f1_score\": f1_score, })\n"
   ]
  },
  {
   "cell_type": "code",
   "execution_count": 28,
   "metadata": {},
   "outputs": [
    {
     "data": {
      "text/html": [
       "<div>\n",
       "<style scoped>\n",
       "    .dataframe tbody tr th:only-of-type {\n",
       "        vertical-align: middle;\n",
       "    }\n",
       "\n",
       "    .dataframe tbody tr th {\n",
       "        vertical-align: top;\n",
       "    }\n",
       "\n",
       "    .dataframe thead th {\n",
       "        text-align: right;\n",
       "    }\n",
       "</style>\n",
       "<table border=\"1\" class=\"dataframe\">\n",
       "  <thead>\n",
       "    <tr style=\"text-align: right;\">\n",
       "      <th></th>\n",
       "      <th>prompt</th>\n",
       "      <th>completion</th>\n",
       "    </tr>\n",
       "  </thead>\n",
       "  <tbody>\n",
       "    <tr>\n",
       "      <th>0</th>\n",
       "      <td>what do you do after getting the thightiest pu...</td>\n",
       "      <td>offY\\nbiasN</td>\n",
       "    </tr>\n",
       "    <tr>\n",
       "      <th>1</th>\n",
       "      <td>Four-year-old boy:: Why did she get to walk in...</td>\n",
       "      <td>offY\\nbiasN</td>\n",
       "    </tr>\n",
       "    <tr>\n",
       "      <th>2</th>\n",
       "      <td>\"@Vodkantots I refer to them as, \"\"fucknutz\"\"....</td>\n",
       "      <td>offY\\nbiasY</td>\n",
       "    </tr>\n",
       "    <tr>\n",
       "      <th>3</th>\n",
       "      <td>Broken Dishwasher Husband: The dishwasher is b...</td>\n",
       "      <td>offY\\nbiasN</td>\n",
       "    </tr>\n",
       "    <tr>\n",
       "      <th>4</th>\n",
       "      <td>The fly on the wall,\\nBy the stairs, down the ...</td>\n",
       "      <td>offN\\nbiasY</td>\n",
       "    </tr>\n",
       "    <tr>\n",
       "      <th>...</th>\n",
       "      <td>...</td>\n",
       "      <td>...</td>\n",
       "    </tr>\n",
       "    <tr>\n",
       "      <th>230</th>\n",
       "      <td>At the time Robert Mugabe ordered his thugs to...</td>\n",
       "      <td>offN\\nbiasY</td>\n",
       "    </tr>\n",
       "    <tr>\n",
       "      <th>231</th>\n",
       "      <td>Funny how they cant send someone to get pics o...</td>\n",
       "      <td>offN\\nbiasY</td>\n",
       "    </tr>\n",
       "    <tr>\n",
       "      <th>232</th>\n",
       "      <td>Shower Quest: write down the last time you've ...</td>\n",
       "      <td>offN\\nbiasY</td>\n",
       "    </tr>\n",
       "    <tr>\n",
       "      <th>233</th>\n",
       "      <td>My World, My Happiness, My Sunshine, My Star, ...</td>\n",
       "      <td>offN\\nbiasY</td>\n",
       "    </tr>\n",
       "    <tr>\n",
       "      <th>234</th>\n",
       "      <td>What do you call a black person on top of a ch...</td>\n",
       "      <td>offY\\nbiasN</td>\n",
       "    </tr>\n",
       "  </tbody>\n",
       "</table>\n",
       "<p>235 rows × 2 columns</p>\n",
       "</div>"
      ],
      "text/plain": [
       "                                                prompt    completion\n",
       "0    what do you do after getting the thightiest pu...   offY\\nbiasN\n",
       "1    Four-year-old boy:: Why did she get to walk in...   offY\\nbiasN\n",
       "2    \"@Vodkantots I refer to them as, \"\"fucknutz\"\"....   offY\\nbiasY\n",
       "3    Broken Dishwasher Husband: The dishwasher is b...   offY\\nbiasN\n",
       "4    The fly on the wall,\\nBy the stairs, down the ...   offN\\nbiasY\n",
       "..                                                 ...           ...\n",
       "230  At the time Robert Mugabe ordered his thugs to...   offN\\nbiasY\n",
       "231  Funny how they cant send someone to get pics o...   offN\\nbiasY\n",
       "232  Shower Quest: write down the last time you've ...   offN\\nbiasY\n",
       "233  My World, My Happiness, My Sunshine, My Star, ...   offN\\nbiasY\n",
       "234  What do you call a black person on top of a ch...   offY\\nbiasN\n",
       "\n",
       "[235 rows x 2 columns]"
      ]
     },
     "execution_count": 28,
     "metadata": {},
     "output_type": "execute_result"
    }
   ],
   "source": [
    "test"
   ]
  },
  {
   "cell_type": "code",
   "execution_count": 32,
   "metadata": {},
   "outputs": [],
   "source": [
    "\n",
    "predicted = []\n",
    "for row in test.values:\n",
    "    predicted.append(inferGPT3FineTuned(row[0]))\n"
   ]
  },
  {
   "cell_type": "code",
   "execution_count": 33,
   "metadata": {},
   "outputs": [
    {
     "name": "stdout",
     "output_type": "stream",
     "text": [
      "              precision    recall  f1-score   support\n",
      "\n",
      "  offN\n",
      "biasN       0.00      0.00      0.00         3\n",
      "  offN\n",
      "biasY       0.78      0.81      0.79       113\n",
      "  offY\n",
      "biasN       0.75      0.79      0.77        95\n",
      "  offY\n",
      "biasY       0.37      0.29      0.33        24\n",
      "\n",
      "    accuracy                           0.74       235\n",
      "   macro avg       0.48      0.47      0.47       235\n",
      "weighted avg       0.72      0.74      0.73       235\n",
      "\n"
     ]
    },
    {
     "name": "stderr",
     "output_type": "stream",
     "text": [
      "c:\\Users\\debon\\AppData\\Local\\Programs\\Python\\Python310\\lib\\site-packages\\sklearn\\metrics\\_classification.py:1334: UndefinedMetricWarning: Precision and F-score are ill-defined and being set to 0.0 in labels with no predicted samples. Use `zero_division` parameter to control this behavior.\n",
      "  _warn_prf(average, modifier, msg_start, len(result))\n",
      "c:\\Users\\debon\\AppData\\Local\\Programs\\Python\\Python310\\lib\\site-packages\\sklearn\\metrics\\_classification.py:1334: UndefinedMetricWarning: Precision and F-score are ill-defined and being set to 0.0 in labels with no predicted samples. Use `zero_division` parameter to control this behavior.\n",
      "  _warn_prf(average, modifier, msg_start, len(result))\n",
      "c:\\Users\\debon\\AppData\\Local\\Programs\\Python\\Python310\\lib\\site-packages\\sklearn\\metrics\\_classification.py:1334: UndefinedMetricWarning: Precision and F-score are ill-defined and being set to 0.0 in labels with no predicted samples. Use `zero_division` parameter to control this behavior.\n",
      "  _warn_prf(average, modifier, msg_start, len(result))\n"
     ]
    }
   ],
   "source": [
    "print(metrics.classification_report(test['completion'].values, predicted))\n"
   ]
  },
  {
   "cell_type": "code",
   "execution_count": 36,
   "metadata": {},
   "outputs": [
    {
     "name": "stdout",
     "output_type": "stream",
     "text": [
      "Accuracy: 73.617%\n",
      "F1 Score: 72.638%\n",
      "\n",
      "Classwise Accuracy Score: \n",
      "|   Non-Hate+Non-Biased |   Non-Hate+Biased |   Hate+Non-Biased |   Hate+Biased |\n",
      "|----------------------:|------------------:|------------------:|--------------:|\n",
      "|                     0 |           0.80531 |          0.789474 |      0.291667 |\n",
      "\n",
      "Confusion Matrix:\n",
      "| True Label          |   Non-Hate+Non-Biased |   Non-Hate+Biased |   Hate+Non-Biased |   Hate+Biased |\n",
      "|:--------------------|----------------------:|------------------:|------------------:|--------------:|\n",
      "| Non-Hate+Non-Biased |                     0 |                 1 |                 2 |             0 |\n",
      "| Non-Hate+Biased     |                     0 |                91 |                16 |             6 |\n",
      "| Hate+Non-Biased     |                     0 |                14 |                75 |             6 |\n",
      "| Hate+Biased         |                     0 |                10 |                 7 |             7 |\n"
     ]
    },
    {
     "data": {
      "image/png": "[encoded data removed]",
      "text/plain": [
       "<Figure size 1000x1000 with 2 Axes>"
      ]
     },
     "metadata": {},
     "output_type": "display_data"
    }
   ],
   "source": [
    "\n",
    "confusionMatrixAndAccuracyReport(test['completion'].values, predicted, [\n",
    "                                 'Non-Hate+Non-Biased', 'Non-Hate+Biased', 'Hate+Non-Biased', 'Hate+Biased',], title='GPT3 Fine tune On Social Bias')"
   ]
  },
  {
   "cell_type": "code",
   "execution_count": 37,
   "metadata": {},
   "outputs": [
    {
     "data": {
      "text/html": [
       "<div>\n",
       "<style scoped>\n",
       "    .dataframe tbody tr th:only-of-type {\n",
       "        vertical-align: middle;\n",
       "    }\n",
       "\n",
       "    .dataframe tbody tr th {\n",
       "        vertical-align: top;\n",
       "    }\n",
       "\n",
       "    .dataframe thead th {\n",
       "        text-align: right;\n",
       "    }\n",
       "</style>\n",
       "<table border=\"1\" class=\"dataframe\">\n",
       "  <thead>\n",
       "    <tr style=\"text-align: right;\">\n",
       "      <th></th>\n",
       "      <th>actual</th>\n",
       "      <th>predicted</th>\n",
       "    </tr>\n",
       "  </thead>\n",
       "  <tbody>\n",
       "    <tr>\n",
       "      <th>0</th>\n",
       "      <td>offY\\nbiasN</td>\n",
       "      <td>offY\\nbiasY</td>\n",
       "    </tr>\n",
       "    <tr>\n",
       "      <th>1</th>\n",
       "      <td>offY\\nbiasN</td>\n",
       "      <td>offY\\nbiasN</td>\n",
       "    </tr>\n",
       "    <tr>\n",
       "      <th>2</th>\n",
       "      <td>offY\\nbiasY</td>\n",
       "      <td>offY\\nbiasY</td>\n",
       "    </tr>\n",
       "    <tr>\n",
       "      <th>3</th>\n",
       "      <td>offY\\nbiasN</td>\n",
       "      <td>offN\\nbiasY</td>\n",
       "    </tr>\n",
       "    <tr>\n",
       "      <th>4</th>\n",
       "      <td>offN\\nbiasY</td>\n",
       "      <td>offN\\nbiasY</td>\n",
       "    </tr>\n",
       "    <tr>\n",
       "      <th>...</th>\n",
       "      <td>...</td>\n",
       "      <td>...</td>\n",
       "    </tr>\n",
       "    <tr>\n",
       "      <th>230</th>\n",
       "      <td>offN\\nbiasY</td>\n",
       "      <td>offY\\nbiasN</td>\n",
       "    </tr>\n",
       "    <tr>\n",
       "      <th>231</th>\n",
       "      <td>offN\\nbiasY</td>\n",
       "      <td>offY\\nbiasN</td>\n",
       "    </tr>\n",
       "    <tr>\n",
       "      <th>232</th>\n",
       "      <td>offN\\nbiasY</td>\n",
       "      <td>offN\\nbiasY</td>\n",
       "    </tr>\n",
       "    <tr>\n",
       "      <th>233</th>\n",
       "      <td>offN\\nbiasY</td>\n",
       "      <td>offN\\nbiasY</td>\n",
       "    </tr>\n",
       "    <tr>\n",
       "      <th>234</th>\n",
       "      <td>offY\\nbiasN</td>\n",
       "      <td>offY\\nbiasN</td>\n",
       "    </tr>\n",
       "  </tbody>\n",
       "</table>\n",
       "<p>235 rows × 2 columns</p>\n",
       "</div>"
      ],
      "text/plain": [
       "           actual     predicted\n",
       "0     offY\\nbiasN   offY\\nbiasY\n",
       "1     offY\\nbiasN   offY\\nbiasN\n",
       "2     offY\\nbiasY   offY\\nbiasY\n",
       "3     offY\\nbiasN   offN\\nbiasY\n",
       "4     offN\\nbiasY   offN\\nbiasY\n",
       "..            ...           ...\n",
       "230   offN\\nbiasY   offY\\nbiasN\n",
       "231   offN\\nbiasY   offY\\nbiasN\n",
       "232   offN\\nbiasY   offN\\nbiasY\n",
       "233   offN\\nbiasY   offN\\nbiasY\n",
       "234   offY\\nbiasN   offY\\nbiasN\n",
       "\n",
       "[235 rows x 2 columns]"
      ]
     },
     "execution_count": 37,
     "metadata": {},
     "output_type": "execute_result"
    }
   ],
   "source": [
    "predicted_df = pd.DataFrame({'actual':test['completion'],'predicted':predicted})\n",
    "predicted_df"
   ]
  },
  {
   "cell_type": "code",
   "execution_count": null,
   "metadata": {},
   "outputs": [],
   "source": [
    "predicted_df.to_csv('../data/predicted_social_b_curie_SBIC.v2.agg.tst.tiny.csv',index=False)"
   ]
  }
 ],
 "metadata": {
  "kernelspec": {
   "display_name": "Python 3",
   "language": "python",
   "name": "python3"
  },
  "language_info": {
   "codemirror_mode": {
    "name": "ipython",
    "version": 3
   },
   "file_extension": ".py",
   "mimetype": "text/x-python",
   "name": "python",
   "nbconvert_exporter": "python",
   "pygments_lexer": "ipython3",
   "version": "3.10.7"
  },
  "orig_nbformat": 4
 },
 "nbformat": 4,
 "nbformat_minor": 2
}
