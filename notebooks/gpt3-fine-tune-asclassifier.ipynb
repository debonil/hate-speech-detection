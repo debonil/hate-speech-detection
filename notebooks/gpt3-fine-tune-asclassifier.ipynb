{
 "cells": [
  {
   "cell_type": "code",
   "execution_count": 1,
   "metadata": {},
   "outputs": [],
   "source": [
    "import openai\n",
    "import wandb\n",
    "from pathlib import Path\n",
    "import pandas as pd\n",
    "import numpy as np\n",
    "import json\n",
    "from tqdm import tqdm\n"
   ]
  },
  {
   "cell_type": "code",
   "execution_count": 2,
   "metadata": {},
   "outputs": [
    {
     "name": "stdout",
     "output_type": "stream",
     "text": [
      "No new successful fine-tunes were found\n",
      "🎉 wandb sync completed successfully\n"
     ]
    },
    {
     "name": "stderr",
     "output_type": "stream",
     "text": [
      "wandb: Currently logged in as: ghosh-11. Use `wandb login --relogin` to force relogin\n"
     ]
    }
   ],
   "source": [
    "!openai wandb sync\n"
   ]
  },
  {
   "cell_type": "code",
   "execution_count": null,
   "metadata": {},
   "outputs": [],
   "source": [
    "from datasets import list_datasets\n",
    "list_datasets()"
   ]
  },
  {
   "cell_type": "code",
   "execution_count": 4,
   "metadata": {},
   "outputs": [
    {
     "data": {
      "application/vnd.jupyter.widget-view+json": {
       "model_id": "1a80c175a5764eadac73c7573abd6c15",
       "version_major": 2,
       "version_minor": 0
      },
      "text/plain": [
       "Downloading builder script:   0%|          | 0.00/4.11k [00:00<?, ?B/s]"
      ]
     },
     "metadata": {},
     "output_type": "display_data"
    },
    {
     "data": {
      "application/vnd.jupyter.widget-view+json": {
       "model_id": "cdd0582c8b554cfa9c36d0a8f84826b9",
       "version_major": 2,
       "version_minor": 0
      },
      "text/plain": [
       "Downloading metadata:   0%|          | 0.00/1.68k [00:00<?, ?B/s]"
      ]
     },
     "metadata": {},
     "output_type": "display_data"
    },
    {
     "data": {
      "application/vnd.jupyter.widget-view+json": {
       "model_id": "eb5f88cd23704edcbd06d46f6b91cb2e",
       "version_major": 2,
       "version_minor": 0
      },
      "text/plain": [
       "Downloading readme:   0%|          | 0.00/6.64k [00:00<?, ?B/s]"
      ]
     },
     "metadata": {},
     "output_type": "display_data"
    },
    {
     "name": "stdout",
     "output_type": "stream",
     "text": [
      "Downloading and preparing dataset amazon_polarity/amazon_polarity to C:/Users/debon/.cache/huggingface/datasets/amazon_polarity/amazon_polarity/3.0.0/a27b32b7e7b88eb274a8fa8ba0f654f1fe998a87c22547557317793b5d2772dc...\n"
     ]
    },
    {
     "data": {
      "application/vnd.jupyter.widget-view+json": {
       "model_id": "503e08deae7340918f5898e99d6a57e8",
       "version_major": 2,
       "version_minor": 0
      },
      "text/plain": [
       "Downloading data:   0%|          | 0.00/688M [00:00<?, ?B/s]"
      ]
     },
     "metadata": {},
     "output_type": "display_data"
    },
    {
     "data": {
      "application/vnd.jupyter.widget-view+json": {
       "model_id": "48dd0b9cc3cc43f989842a607f5c41b4",
       "version_major": 2,
       "version_minor": 0
      },
      "text/plain": [
       "Generating train split:   0%|          | 0/3600000 [00:00<?, ? examples/s]"
      ]
     },
     "metadata": {},
     "output_type": "display_data"
    },
    {
     "data": {
      "application/vnd.jupyter.widget-view+json": {
       "model_id": "1ad1a5f85d3e499b9c47bd1aa718d17c",
       "version_major": 2,
       "version_minor": 0
      },
      "text/plain": [
       "Generating test split:   0%|          | 0/400000 [00:00<?, ? examples/s]"
      ]
     },
     "metadata": {},
     "output_type": "display_data"
    },
    {
     "name": "stdout",
     "output_type": "stream",
     "text": [
      "Dataset amazon_polarity downloaded and prepared to C:/Users/debon/.cache/huggingface/datasets/amazon_polarity/amazon_polarity/3.0.0/a27b32b7e7b88eb274a8fa8ba0f654f1fe998a87c22547557317793b5d2772dc. Subsequent calls will reuse this data.\n"
     ]
    },
    {
     "data": {
      "text/plain": [
       "Dataset({\n",
       "    features: ['label', 'title', 'content'],\n",
       "    num_rows: 400000\n",
       "})"
      ]
     },
     "execution_count": 4,
     "metadata": {},
     "output_type": "execute_result"
    }
   ],
   "source": [
    "from datasets import load_dataset\n",
    "\n",
    "dataset = load_dataset(\"amazon_polarity\",  split=\"test\")\n",
    "dataset"
   ]
  },
  {
   "cell_type": "code",
   "execution_count": 16,
   "metadata": {},
   "outputs": [],
   "source": [
    "#dataset = dataset.remove_columns(['prompt', 'completion'])"
   ]
  },
  {
   "cell_type": "code",
   "execution_count": 18,
   "metadata": {},
   "outputs": [],
   "source": [
    "def mapToPromt(x):\n",
    "    x['prompt'] = x['content'] + '\\n\\n###\\n\\n'\n",
    "    x['completion'] = ' ' + str(x['label'])\n",
    "    return x"
   ]
  },
  {
   "cell_type": "code",
   "execution_count": 19,
   "metadata": {},
   "outputs": [
    {
     "data": {
      "application/vnd.jupyter.widget-view+json": {
       "model_id": "dd715eb82b6540b8a86691393cfaa804",
       "version_major": 2,
       "version_minor": 0
      },
      "text/plain": [
       "Map:   0%|          | 0/400000 [00:00<?, ? examples/s]"
      ]
     },
     "metadata": {},
     "output_type": "display_data"
    }
   ],
   "source": [
    "dataset = dataset.map(mapToPromt)"
   ]
  },
  {
   "cell_type": "code",
   "execution_count": 22,
   "metadata": {},
   "outputs": [
    {
     "name": "stdout",
     "output_type": "stream",
     "text": [
      "openai tools fine_tunes.prepare_data -f data/amazon_polarity.trn.tiny.promted_prepared.jsonl\n",
      "openai tools fine_tunes.prepare_data -f data/amazon_polarity.dev.tiny.promted_prepared.jsonl\n",
      "openai tools fine_tunes.prepare_data -f data/amazon_polarity.tst.tiny.promted_prepared.jsonl\n"
     ]
    }
   ],
   "source": [
    "import pandas as pd\n",
    "import os\n",
    "\n",
    "ds_split_1 = dataset.train_test_split(test_size=0.2, shuffle=True)\n",
    "ds_split_2 = ds_split_1['test'].train_test_split(test_size=0.5, shuffle=True)\n",
    "ds_list = [ds_split_1['train'],ds_split_2['train'],ds_split_2['test']]\n",
    "file_types = ['trn', 'dev', 'tst']\n",
    "for i,f in enumerate(file_types):\n",
    "    #src_data_df = pd.read_csv(f'../data/amazon_polarity.{f}.csv').sample(frac=0.05)\n",
    "    result_df = pd.DataFrame()\n",
    "\n",
    "    result_df['prompt'] = ds_list[i]['prompt']\n",
    "    result_df['completion'] = ds_list[i]['completion']\n",
    "\n",
    "    result_df.to_json(\n",
    "        f'../data/amazon_polarity.{f}.tiny.promted_prepared.jsonl', orient='records', lines=True)\n",
    "    print(\n",
    "        f'openai tools fine_tunes.prepare_data -f data/amazon_polarity.{f}.tiny.promted_prepared.jsonl')"
   ]
  },
  {
   "cell_type": "code",
   "execution_count": 4,
   "metadata": {},
   "outputs": [
    {
     "name": "stdout",
     "output_type": "stream",
     "text": [
      "^C\n"
     ]
    }
   ],
   "source": [
    "!openai tools fine_tunes.prepare_data - f ../data/SBIC.v2.agg.trn.promted.csv\n"
   ]
  },
  {
   "cell_type": "code",
   "execution_count": 23,
   "metadata": {},
   "outputs": [
    {
     "name": "stderr",
     "output_type": "stream",
     "text": [
      "usage: openai api fine_tunes.create [-h] -t TRAINING_FILE [-v VALIDATION_FILE]\n",
      "                                    [--no_check_if_files_exist] [-m MODEL]\n",
      "                                    [--suffix SUFFIX] [--no_follow]\n",
      "                                    [--n_epochs N_EPOCHS]\n",
      "                                    [--batch_size BATCH_SIZE]\n",
      "                                    [--learning_rate_multiplier LEARNING_RATE_MULTIPLIER]\n",
      "                                    [--prompt_loss_weight PROMPT_LOSS_WEIGHT]\n",
      "                                    [--compute_classification_metrics]\n",
      "                                    [--classification_n_classes CLASSIFICATION_N_CLASSES]\n",
      "                                    [--classification_positive_class CLASSIFICATION_POSITIVE_CLASS]\n",
      "                                    [--classification_betas CLASSIFICATION_BETAS [CLASSIFICATION_BETAS ...]]\n",
      "openai api fine_tunes.create: error: the following arguments are required: -t/--training_file\n"
     ]
    }
   ],
   "source": [
    "!openai api fine_tunes.create -t \"data/amazon_polarity.trn.tiny.promted_prepared.jsonl\" - v \"data/amazon_polarity.dev.tiny.promted_prepared.jsonl\" --compute_classification_metrics --classification_positive_class \" 1\" -m davinci --n_epochs 1 --learning_rate_multiplier 0.05\n"
   ]
  },
  {
   "cell_type": "code",
   "execution_count": 24,
   "metadata": {},
   "outputs": [
    {
     "name": "stderr",
     "output_type": "stream",
     "text": [
      "curl: option -: is unknown\n",
      "curl: try 'curl --help' for more information\n"
     ]
    }
   ],
   "source": [
    "!curl https: // api.openai.com/v1/fine-tunes/ft-u3oC6MarWll2btewysd1wTI8 - H \"Authorization: Bearer $OPENAI_API_KEY\" > ../results/fine-tuned-davinchi.json\n"
   ]
  },
  {
   "cell_type": "code",
   "execution_count": 25,
   "metadata": {},
   "outputs": [
    {
     "name": "stderr",
     "output_type": "stream",
     "text": [
      "usage: openai api fine_tunes.results [-h] -i ID\n",
      "openai api fine_tunes.results: error: the following arguments are required: -i/--id\n"
     ]
    }
   ],
   "source": [
    "!openai api fine_tunes.results - i ft-u3oC6MarWll2btewysd1wTI8 > result.csv\n"
   ]
  },
  {
   "cell_type": "code",
   "execution_count": 26,
   "metadata": {},
   "outputs": [
    {
     "data": {
      "text/html": [
       "<div>\n",
       "<style scoped>\n",
       "    .dataframe tbody tr th:only-of-type {\n",
       "        vertical-align: middle;\n",
       "    }\n",
       "\n",
       "    .dataframe tbody tr th {\n",
       "        vertical-align: top;\n",
       "    }\n",
       "\n",
       "    .dataframe thead th {\n",
       "        text-align: right;\n",
       "    }\n",
       "</style>\n",
       "<table border=\"1\" class=\"dataframe\">\n",
       "  <thead>\n",
       "    <tr style=\"text-align: right;\">\n",
       "      <th></th>\n",
       "      <th>step</th>\n",
       "      <th>elapsed_tokens</th>\n",
       "      <th>elapsed_examples</th>\n",
       "      <th>training_loss</th>\n",
       "      <th>training_sequence_accuracy</th>\n",
       "      <th>training_token_accuracy</th>\n",
       "      <th>validation_loss</th>\n",
       "      <th>validation_sequence_accuracy</th>\n",
       "      <th>validation_token_accuracy</th>\n",
       "      <th>classification/accuracy</th>\n",
       "      <th>classification/precision</th>\n",
       "      <th>classification/recall</th>\n",
       "      <th>classification/auroc</th>\n",
       "      <th>classification/auprc</th>\n",
       "      <th>classification/f1.0</th>\n",
       "    </tr>\n",
       "  </thead>\n",
       "  <tbody>\n",
       "    <tr>\n",
       "      <th>3542</th>\n",
       "      <td>3543</td>\n",
       "      <td>312190</td>\n",
       "      <td>7086</td>\n",
       "      <td>0.021387</td>\n",
       "      <td>1.0</td>\n",
       "      <td>1.0</td>\n",
       "      <td>NaN</td>\n",
       "      <td>NaN</td>\n",
       "      <td>NaN</td>\n",
       "      <td>0.811159</td>\n",
       "      <td>0.809917</td>\n",
       "      <td>0.823529</td>\n",
       "      <td>0.859539</td>\n",
       "      <td>0.856152</td>\n",
       "      <td>0.816667</td>\n",
       "    </tr>\n",
       "  </tbody>\n",
       "</table>\n",
       "</div>"
      ],
      "text/plain": [
       "      step  elapsed_tokens  elapsed_examples  training_loss  \\\n",
       "3542  3543          312190              7086       0.021387   \n",
       "\n",
       "      training_sequence_accuracy  training_token_accuracy  validation_loss  \\\n",
       "3542                         1.0                      1.0              NaN   \n",
       "\n",
       "      validation_sequence_accuracy  validation_token_accuracy  \\\n",
       "3542                           NaN                        NaN   \n",
       "\n",
       "      classification/accuracy  classification/precision  \\\n",
       "3542                 0.811159                  0.809917   \n",
       "\n",
       "      classification/recall  classification/auroc  classification/auprc  \\\n",
       "3542               0.823529              0.859539              0.856152   \n",
       "\n",
       "      classification/f1.0  \n",
       "3542             0.816667  "
      ]
     },
     "execution_count": 26,
     "metadata": {},
     "output_type": "execute_result"
    }
   ],
   "source": [
    "results = pd.read_csv('../results/results_davinchi.csv')\n",
    "results[results['classification/accuracy'].notnull()].tail(1)\n"
   ]
  },
  {
   "cell_type": "code",
   "execution_count": 27,
   "metadata": {},
   "outputs": [
    {
     "data": {
      "text/plain": [
       "<AxesSubplot:>"
      ]
     },
     "execution_count": 27,
     "metadata": {},
     "output_type": "execute_result"
    },
    {
     "data": {
      "image/png": "[encoded data removed]",
      "text/plain": [
       "<Figure size 640x480 with 1 Axes>"
      ]
     },
     "metadata": {},
     "output_type": "display_data"
    }
   ],
   "source": [
    "results[results['classification/accuracy'].notnull()\n",
    "        ]['classification/accuracy'].plot()"
   ]
  },
  {
   "cell_type": "code",
   "execution_count": 11,
   "metadata": {},
   "outputs": [
    {
     "data": {
      "text/plain": [
       "<AxesSubplot:>"
      ]
     },
     "execution_count": 11,
     "metadata": {},
     "output_type": "execute_result"
    },
    {
     "data": {
      "image/png": "[encoded data removed]",
      "text/plain": [
       "<Figure size 640x480 with 1 Axes>"
      ]
     },
     "metadata": {},
     "output_type": "display_data"
    }
   ],
   "source": [
    "results[results['validation_loss'].notnull()]['validation_loss'].plot()\n"
   ]
  },
  {
   "attachments": {},
   "cell_type": "markdown",
   "metadata": {},
   "source": [
    "Using the model"
   ]
  },
  {
   "cell_type": "code",
   "execution_count": 2,
   "metadata": {},
   "outputs": [
    {
     "data": {
      "text/html": [
       "<div>\n",
       "<style scoped>\n",
       "    .dataframe tbody tr th:only-of-type {\n",
       "        vertical-align: middle;\n",
       "    }\n",
       "\n",
       "    .dataframe tbody tr th {\n",
       "        vertical-align: top;\n",
       "    }\n",
       "\n",
       "    .dataframe thead th {\n",
       "        text-align: right;\n",
       "    }\n",
       "</style>\n",
       "<table border=\"1\" class=\"dataframe\">\n",
       "  <thead>\n",
       "    <tr style=\"text-align: right;\">\n",
       "      <th></th>\n",
       "      <th>prompt</th>\n",
       "      <th>completion</th>\n",
       "    </tr>\n",
       "  </thead>\n",
       "  <tbody>\n",
       "    <tr>\n",
       "      <th>0</th>\n",
       "      <td>1 horrible cunt that Ross Barkley. 2 bad tackl...</td>\n",
       "      <td>1</td>\n",
       "    </tr>\n",
       "    <tr>\n",
       "      <th>1</th>\n",
       "      <td>Parents:\\n\\nIf YOU do not teach your children ...</td>\n",
       "      <td>1</td>\n",
       "    </tr>\n",
       "    <tr>\n",
       "      <th>2</th>\n",
       "      <td>The kikes probably put the Leftist up to it , ...</td>\n",
       "      <td>1</td>\n",
       "    </tr>\n",
       "    <tr>\n",
       "      <th>3</th>\n",
       "      <td>\"Just when you think the Swans are dead and bu...</td>\n",
       "      <td>0</td>\n",
       "    </tr>\n",
       "    <tr>\n",
       "      <th>4</th>\n",
       "      <td>It is people like James O'Keefe and Project Ve...</td>\n",
       "      <td>0</td>\n",
       "    </tr>\n",
       "  </tbody>\n",
       "</table>\n",
       "</div>"
      ],
      "text/plain": [
       "                                              prompt  completion\n",
       "0  1 horrible cunt that Ross Barkley. 2 bad tackl...           1\n",
       "1  Parents:\\n\\nIf YOU do not teach your children ...           1\n",
       "2  The kikes probably put the Leftist up to it , ...           1\n",
       "3  \"Just when you think the Swans are dead and bu...           0\n",
       "4  It is people like James O'Keefe and Project Ve...           0"
      ]
     },
     "execution_count": 2,
     "metadata": {},
     "output_type": "execute_result"
    }
   ],
   "source": [
    "test = pd.read_json(\n",
    "    '../data/SBIC.v2.agg.tst.tiny.promted_prepared.jsonl', orient='records', lines=True)\n",
    "test.head()"
   ]
  },
  {
   "cell_type": "code",
   "execution_count": 19,
   "metadata": {},
   "outputs": [
    {
     "data": {
      "text/plain": [
       "1"
      ]
     },
     "execution_count": 19,
     "metadata": {},
     "output_type": "execute_result"
    }
   ],
   "source": [
    "\n",
    "import openai\n",
    "ft_model = 'davinci:ft-personal-2023-05-07-12-34-28'\n",
    "\n",
    "\n",
    "def inferGPT3FineTuned(input):\n",
    "    res = openai.Completion.create(\n",
    "        model=ft_model, prompt=input, max_tokens=1, temperature=0)\n",
    "    return int(res['choices'][0]['text'].strip())\n",
    "\n",
    "\n",
    "inferGPT3FineTuned(test['prompt'][2])"
   ]
  },
  {
   "cell_type": "code",
   "execution_count": 4,
   "metadata": {},
   "outputs": [
    {
     "name": "stdout",
     "output_type": "stream",
     "text": [
      "The kikes probably put the Leftist up to it , to make it seem like they do n't have total control of everyone .\n",
      "\n",
      "###\n",
      "\n",
      "\n"
     ]
    },
    {
     "data": {
      "text/plain": [
       "<OpenAIObject at 0x1abe31e27f0> JSON: {\n",
       "  \" 0\": -11.771873,\n",
       "  \" 1\": -3.988961e-05\n",
       "}"
      ]
     },
     "execution_count": 4,
     "metadata": {},
     "output_type": "execute_result"
    }
   ],
   "source": [
    "print(test['prompt'][2])\n",
    "res = openai.Completion.create(\n",
    "    model=ft_model, prompt=test['prompt'][2], max_tokens=1, temperature=0, logprobs=2)\n",
    "res['choices'][0]['logprobs']['top_logprobs'][0]"
   ]
  },
  {
   "cell_type": "code",
   "execution_count": 40,
   "metadata": {},
   "outputs": [],
   "source": [
    "from sklearn import metrics\n",
    "import seaborn as sns\n",
    "# sns.set(rc={'axes.facecolor': 'lightblue', 'figure.facecolor': 'lightblue'})\n",
    "import pandas as pd\n",
    "import matplotlib.pyplot as plt\n",
    "import time\n",
    "\n",
    "\n",
    "def confusionMatrixAndAccuracyReport(Y_test, Y_pred, classes, title=''):\n",
    "    cm = metrics.confusion_matrix(Y_test, Y_pred)\n",
    "    overallAccuracy = metrics.accuracy_score(Y_test, Y_pred)\n",
    "\n",
    "    classwiseAccuracy = cm.diagonal()/cm.sum(axis=1)\n",
    "\n",
    "    f1_score = metrics.f1_score(Y_test, Y_pred, average='weighted')\n",
    "\n",
    "    plt.figure(figsize=(10, 10))\n",
    "    plt.title(\n",
    "        f'{title} : Accuracy : {overallAccuracy*100:3.2f}% | F1 Score : {f1_score*100:3.2f}% ', size=14)\n",
    "    plt.ylabel('Actual label')\n",
    "    plt.xlabel('Predicted label')\n",
    "    cm = pd.DataFrame(cm, index=classes, columns=classes)\n",
    "    cm.index.name = 'True Label'\n",
    "    cm.columns.name = 'Predicted Label'\n",
    "    sns.heatmap(data=cm, annot=True, square=True,  cmap='Blues',\n",
    "                fmt='g', xticklabels=classes, yticklabels=classes)\n",
    "\n",
    "    # plt.show()\n",
    "    plt.savefig(\n",
    "        f'../results/confusion_mat_{title}.png', bbox_inches='tight')\n",
    "    print(f'Accuracy: {overallAccuracy*100:3.3f}%')\n",
    "    print(f'F1 Score: {f1_score*100:3.3f}%')\n",
    "    classwiseAccuracy_df = pd.DataFrame(\n",
    "        data=[classwiseAccuracy], columns=classes)\n",
    "    print(\n",
    "        f'\\nClasswise Accuracy Score: \\n{classwiseAccuracy_df.to_markdown(index=False)}')\n",
    "    print('\\nConfusion Matrix:')\n",
    "    print(cm.to_markdown())\n",
    "    # wandb.log({\"accuracy_score\": overallAccuracy, \"f1_score\": f1_score, })"
   ]
  },
  {
   "cell_type": "code",
   "execution_count": 13,
   "metadata": {},
   "outputs": [
    {
     "data": {
      "text/html": [
       "<div>\n",
       "<style scoped>\n",
       "    .dataframe tbody tr th:only-of-type {\n",
       "        vertical-align: middle;\n",
       "    }\n",
       "\n",
       "    .dataframe tbody tr th {\n",
       "        vertical-align: top;\n",
       "    }\n",
       "\n",
       "    .dataframe thead th {\n",
       "        text-align: right;\n",
       "    }\n",
       "</style>\n",
       "<table border=\"1\" class=\"dataframe\">\n",
       "  <thead>\n",
       "    <tr style=\"text-align: right;\">\n",
       "      <th></th>\n",
       "      <th>prompt</th>\n",
       "      <th>completion</th>\n",
       "    </tr>\n",
       "  </thead>\n",
       "  <tbody>\n",
       "    <tr>\n",
       "      <th>0</th>\n",
       "      <td>1 horrible cunt that Ross Barkley. 2 bad tackl...</td>\n",
       "      <td>1</td>\n",
       "    </tr>\n",
       "    <tr>\n",
       "      <th>1</th>\n",
       "      <td>Parents:\\n\\nIf YOU do not teach your children ...</td>\n",
       "      <td>1</td>\n",
       "    </tr>\n",
       "    <tr>\n",
       "      <th>2</th>\n",
       "      <td>The kikes probably put the Leftist up to it , ...</td>\n",
       "      <td>1</td>\n",
       "    </tr>\n",
       "    <tr>\n",
       "      <th>3</th>\n",
       "      <td>\"Just when you think the Swans are dead and bu...</td>\n",
       "      <td>0</td>\n",
       "    </tr>\n",
       "    <tr>\n",
       "      <th>4</th>\n",
       "      <td>It is people like James O'Keefe and Project Ve...</td>\n",
       "      <td>0</td>\n",
       "    </tr>\n",
       "    <tr>\n",
       "      <th>...</th>\n",
       "      <td>...</td>\n",
       "      <td>...</td>\n",
       "    </tr>\n",
       "    <tr>\n",
       "      <th>230</th>\n",
       "      <td>Not All Straight Men - I am frustrated. Unlike...</td>\n",
       "      <td>0</td>\n",
       "    </tr>\n",
       "    <tr>\n",
       "      <th>231</th>\n",
       "      <td>My dad was salty he failed no nut November My ...</td>\n",
       "      <td>0</td>\n",
       "    </tr>\n",
       "    <tr>\n",
       "      <th>232</th>\n",
       "      <td>There is no doubt in my mind that the #LegacyM...</td>\n",
       "      <td>1</td>\n",
       "    </tr>\n",
       "    <tr>\n",
       "      <th>233</th>\n",
       "      <td>F3701: Japanese Wooden Lacquer ware Drawer CHE...</td>\n",
       "      <td>0</td>\n",
       "    </tr>\n",
       "    <tr>\n",
       "      <th>234</th>\n",
       "      <td>Just bout gave up on this season of Big Brothe...</td>\n",
       "      <td>0</td>\n",
       "    </tr>\n",
       "  </tbody>\n",
       "</table>\n",
       "<p>235 rows × 2 columns</p>\n",
       "</div>"
      ],
      "text/plain": [
       "                                                prompt  completion\n",
       "0    1 horrible cunt that Ross Barkley. 2 bad tackl...           1\n",
       "1    Parents:\\n\\nIf YOU do not teach your children ...           1\n",
       "2    The kikes probably put the Leftist up to it , ...           1\n",
       "3    \"Just when you think the Swans are dead and bu...           0\n",
       "4    It is people like James O'Keefe and Project Ve...           0\n",
       "..                                                 ...         ...\n",
       "230  Not All Straight Men - I am frustrated. Unlike...           0\n",
       "231  My dad was salty he failed no nut November My ...           0\n",
       "232  There is no doubt in my mind that the #LegacyM...           1\n",
       "233  F3701: Japanese Wooden Lacquer ware Drawer CHE...           0\n",
       "234  Just bout gave up on this season of Big Brothe...           0\n",
       "\n",
       "[235 rows x 2 columns]"
      ]
     },
     "execution_count": 13,
     "metadata": {},
     "output_type": "execute_result"
    }
   ],
   "source": [
    "test\n"
   ]
  },
  {
   "cell_type": "code",
   "execution_count": null,
   "metadata": {},
   "outputs": [],
   "source": [
    "\n",
    "predicted = []\n",
    "for row in test.values:\n",
    "    predicted.append(inferGPT3FineTuned(row[0]))"
   ]
  },
  {
   "cell_type": "code",
   "execution_count": 38,
   "metadata": {},
   "outputs": [
    {
     "name": "stdout",
     "output_type": "stream",
     "text": [
      "              precision    recall  f1-score   support\n",
      "\n",
      "           0       0.86      0.90      0.88       104\n",
      "           1       0.92      0.89      0.90       131\n",
      "\n",
      "    accuracy                           0.89       235\n",
      "   macro avg       0.89      0.89      0.89       235\n",
      "weighted avg       0.89      0.89      0.89       235\n",
      "\n"
     ]
    }
   ],
   "source": [
    "print(metrics.classification_report(test['completion'].values, predicted))"
   ]
  },
  {
   "cell_type": "code",
   "execution_count": 44,
   "metadata": {},
   "outputs": [
    {
     "name": "stdout",
     "output_type": "stream",
     "text": [
      "Accuracy: 89.362%\n",
      "F1 Score: 89.383%\n",
      "\n",
      "Classwise Accuracy Score: \n",
      "|     Hate |   Non-Hate |\n",
      "|---------:|-----------:|\n",
      "| 0.903846 |   0.885496 |\n",
      "\n",
      "Confusion Matrix:\n",
      "| True Label   |   Hate |   Non-Hate |\n",
      "|:-------------|-------:|-----------:|\n",
      "| Hate         |     94 |         10 |\n",
      "| Non-Hate     |     15 |        116 |\n"
     ]
    },
    {
     "data": {
      "image/png": "[encoded data removed]",
      "text/plain": [
       "<Figure size 1000x1000 with 2 Axes>"
      ]
     },
     "metadata": {},
     "output_type": "display_data"
    }
   ],
   "source": [
    "\n",
    "confusionMatrixAndAccuracyReport(test['completion'].values, predicted, ['Hate','Non-Hate'], title='GPT3 Fine tune')"
   ]
  }
 ],
 "metadata": {
  "kernelspec": {
   "display_name": "Python 3",
   "language": "python",
   "name": "python3"
  },
  "language_info": {
   "codemirror_mode": {
    "name": "ipython",
    "version": 3
   },
   "file_extension": ".py",
   "mimetype": "text/x-python",
   "name": "python",
   "nbconvert_exporter": "python",
   "pygments_lexer": "ipython3",
   "version": "3.10.7"
  },
  "orig_nbformat": 4
 },
 "nbformat": 4,
 "nbformat_minor": 2
}
