{
 "cells": [
  {
   "cell_type": "code",
   "execution_count": 1,
   "metadata": {},
   "outputs": [],
   "source": [
    "import openai\n",
    "import wandb\n",
    "from pathlib import Path\n",
    "import pandas as pd\n",
    "import numpy as np\n",
    "import json\n",
    "from tqdm import tqdm"
   ]
  },
  {
   "cell_type": "code",
   "execution_count": 2,
   "metadata": {},
   "outputs": [
    {
     "name": "stdout",
     "output_type": "stream",
     "text": [
      "🎉 wandb sync completed successfully\n"
     ]
    },
    {
     "name": "stderr",
     "output_type": "stream",
     "text": [
      "wandb: Currently logged in as: ghosh-11. Use `wandb login --relogin` to force relogin\n",
      "wandb: - Waiting for wandb.init()...\n",
      "wandb: \\ Waiting for wandb.init()...\n",
      "warning: LF will be replaced by CRLF in notebooks/data_prep.ipynb.\n",
      "The file will have its original line endings in your working directory\n",
      "wandb: Tracking run with wandb version 0.15.2\n",
      "wandb: Run data is saved locally in g:\\MTechClasses\\DL-Ops\\Project\\hate-speech-detection\\notebooks\\wandb\\run-20230507_165606-ft-UPkeclFHu5hdKsxdJfvXRSqL\n",
      "wandb: Run `wandb offline` to turn off syncing.\n",
      "wandb: Syncing run ft-UPkeclFHu5hdKsxdJfvXRSqL\n",
      "wandb:  View project at https://wandb.ai/ghosh-11/GPT-3\n",
      "wandb:  View run at https://wandb.ai/ghosh-11/GPT-3/runs/ft-UPkeclFHu5hdKsxdJfvXRSqL\n",
      "wandb: Waiting for W&B process to finish... (success).\n",
      "wandb: \n",
      "wandb: Run history:\n",
      "wandb:      classification/accuracy █▁▁▅\n",
      "wandb:         classification/auprc █▁▁▂\n",
      "wandb:         classification/auroc █▃▁▂\n",
      "wandb:          classification/f1.0 █▄▁▄\n",
      "wandb:     classification/precision █▁▂▅\n",
      "wandb:        classification/recall ▁█▁▁\n",
      "wandb:             elapsed_examples ▁▁▁▁▂▂▂▂▂▃▃▃▃▃▃▄▄▄▄▄▅▅▅▅▅▅▆▆▆▆▆▇▇▇▇▇▇███\n",
      "wandb:               elapsed_tokens ▁▁▁▁▂▂▂▂▂▃▃▃▃▃▃▄▄▄▄▄▅▅▅▅▅▅▆▆▆▆▆▇▇▇▇▇▇███\n",
      "wandb:                training_loss ▄▃▃▃▃▃▃▄▃▃▃▃▂▅█▃▃▂▃▂▂▂▃▄▂▃▁▂▁▂▁▂▂▁▁▂▁▂▂▂\n",
      "wandb:   training_sequence_accuracy ▁██▁▁█▁▁▁█▁███▁███▁████▁████████████████\n",
      "wandb:      training_token_accuracy ▁██▁▁█▁▁▁█▁███▁███▁████▁████████████████\n",
      "wandb:              validation_loss ▆▂▁▂▂▂▂▂▁▂▂▁▂▂▁▂▂▁▂▂▂▂▁▁▂▁▂▁█▁▁▂▂▁▁▄▁▂▂▂\n",
      "wandb: validation_sequence_accuracy ▁█████▁▁███████████▁█▁████▁█▁██████▁███▁\n",
      "wandb:    validation_token_accuracy ▁█████▁▁███████████▁█▁████▁█▁██████▁███▁\n",
      "wandb: \n",
      "wandb: Run summary:\n",
      "wandb:      classification/accuracy 0.78723\n",
      "wandb:         classification/auprc 0.83787\n",
      "wandb:         classification/auroc 0.85185\n",
      "wandb:          classification/f1.0 0.75\n",
      "wandb:     classification/precision 0.75\n",
      "wandb:        classification/recall 0.75\n",
      "wandb:             elapsed_examples 1418.0\n",
      "wandb:               elapsed_tokens 50626.0\n",
      "wandb:             fine_tuned_model ada:ft-personal-2023...\n",
      "wandb:                       status succeeded\n",
      "wandb:                training_loss 0.03166\n",
      "wandb:   training_sequence_accuracy 1.0\n",
      "wandb:      training_token_accuracy 1.0\n",
      "wandb:              validation_loss 0.06537\n",
      "wandb: validation_sequence_accuracy 0.0\n",
      "wandb:    validation_token_accuracy 0.0\n",
      "wandb: \n",
      "wandb:  View run ft-UPkeclFHu5hdKsxdJfvXRSqL at: https://wandb.ai/ghosh-11/GPT-3/runs/ft-UPkeclFHu5hdKsxdJfvXRSqL\n",
      "wandb: Synced 5 W&B file(s), 0 media file(s), 5 artifact file(s) and 0 other file(s)\n",
      "wandb: Find logs at: .\\wandb\\run-20230507_165606-ft-UPkeclFHu5hdKsxdJfvXRSqL\\logs\n"
     ]
    }
   ],
   "source": [
    "!openai wandb sync"
   ]
  },
  {
   "cell_type": "code",
   "execution_count": 5,
   "metadata": {},
   "outputs": [
    {
     "name": "stdout",
     "output_type": "stream",
     "text": [
      "openai tools fine_tunes.prepare_data -f data/SBIC.v2.agg.trn.tiny.promted_prepared.jsonl\n",
      "openai tools fine_tunes.prepare_data -f data/SBIC.v2.agg.dev.tiny.promted_prepared.jsonl\n",
      "openai tools fine_tunes.prepare_data -f data/SBIC.v2.agg.tst.tiny.promted_prepared.jsonl\n"
     ]
    }
   ],
   "source": [
    "import pandas as pd\n",
    "import os\n",
    "\n",
    "file_types = ['trn', 'dev', 'tst']\n",
    "for f in file_types:\n",
    "    src_data_df = pd.read_csv(f'../data/SBIC.v2.agg.{f}.csv').sample(frac=0.05)\n",
    "    result_df = pd.DataFrame()\n",
    "\n",
    "    result_df['prompt'] = src_data_df['post'].apply(lambda x: str(x)+'\\n\\n###\\n\\n')\n",
    "    result_df['completion'] = src_data_df['offensiveYN'].apply(lambda x: ' 1' if x > 0.5 else ' 0')\n",
    "\n",
    "    result_df.to_json(f'../data/SBIC.v2.agg.{f}.tiny.promted_prepared.jsonl',orient='records',lines=True)\n",
    "    print(f'openai tools fine_tunes.prepare_data -f data/SBIC.v2.agg.{f}.tiny.promted_prepared.jsonl')"
   ]
  },
  {
   "cell_type": "code",
   "execution_count": 4,
   "metadata": {},
   "outputs": [
    {
     "name": "stdout",
     "output_type": "stream",
     "text": [
      "^C\n"
     ]
    }
   ],
   "source": [
    "!openai tools fine_tunes.prepare_data -f ../data/SBIC.v2.agg.trn.promted.csv"
   ]
  },
  {
   "cell_type": "code",
   "execution_count": null,
   "metadata": {},
   "outputs": [],
   "source": [
    "!openai api fine_tunes.create -t \"data/SBIC.v2.agg.trn.tiny.promted_prepared.jsonl\" -v \"data/SBIC.v2.agg.dev.tiny.promted_prepared.jsonl\"  --compute_classification_metrics --classification_positive_class \" 1\" -m davinci --n_epochs 1 --learning_rate_multiplier 0.05"
   ]
  },
  {
   "cell_type": "code",
   "execution_count": 7,
   "metadata": {},
   "outputs": [
    {
     "name": "stderr",
     "output_type": "stream",
     "text": [
      "  % Total    % Received % Xferd  Average Speed   Time    Time     Time  Current\n",
      "                                 Dload  Upload   Total   Spent    Left  Speed\n",
      "\n",
      "  0     0    0     0    0     0      0      0 --:--:-- --:--:-- --:--:--     0\n",
      "100   245  100   245    0     0    342      0 --:--:-- --:--:-- --:--:--   342\n",
      "100   245  100   245    0     0    342      0 --:--:-- --:--:-- --:--:--   342\n"
     ]
    }
   ],
   "source": [
    "!curl https://api.openai.com/v1/fine-tunes/ft-u3oC6MarWll2btewysd1wTI8  -H \"Authorization: Bearer $OPENAI_API_KEY\"> ../results/fine-tuned-davinchi.json"
   ]
  },
  {
   "cell_type": "code",
   "execution_count": 6,
   "metadata": {},
   "outputs": [
    {
     "name": "stderr",
     "output_type": "stream",
     "text": [
      "\u001b[91mError:\u001b[0m No results file available for fine-tune ft-HGqkTToaXFMc4RUPlhTyYlbH\n"
     ]
    }
   ],
   "source": [
    "!openai api fine_tunes.results -i ft-UPkeclFHu5hdKsxdJfvXRSqL > result.csv"
   ]
  },
  {
   "cell_type": "code",
   "execution_count": 9,
   "metadata": {},
   "outputs": [
    {
     "data": {
      "text/html": [
       "<div>\n",
       "<style scoped>\n",
       "    .dataframe tbody tr th:only-of-type {\n",
       "        vertical-align: middle;\n",
       "    }\n",
       "\n",
       "    .dataframe tbody tr th {\n",
       "        vertical-align: top;\n",
       "    }\n",
       "\n",
       "    .dataframe thead th {\n",
       "        text-align: right;\n",
       "    }\n",
       "</style>\n",
       "<table border=\"1\" class=\"dataframe\">\n",
       "  <thead>\n",
       "    <tr style=\"text-align: right;\">\n",
       "      <th></th>\n",
       "      <th>step</th>\n",
       "      <th>elapsed_tokens</th>\n",
       "      <th>elapsed_examples</th>\n",
       "      <th>training_loss</th>\n",
       "      <th>training_sequence_accuracy</th>\n",
       "      <th>training_token_accuracy</th>\n",
       "      <th>validation_loss</th>\n",
       "      <th>validation_sequence_accuracy</th>\n",
       "      <th>validation_token_accuracy</th>\n",
       "      <th>classification/accuracy</th>\n",
       "      <th>classification/precision</th>\n",
       "      <th>classification/recall</th>\n",
       "      <th>classification/auroc</th>\n",
       "      <th>classification/auprc</th>\n",
       "      <th>classification/f1.0</th>\n",
       "    </tr>\n",
       "  </thead>\n",
       "  <tbody>\n",
       "    <tr>\n",
       "      <th>3542</th>\n",
       "      <td>3543</td>\n",
       "      <td>312190</td>\n",
       "      <td>7086</td>\n",
       "      <td>0.021387</td>\n",
       "      <td>1.0</td>\n",
       "      <td>1.0</td>\n",
       "      <td>NaN</td>\n",
       "      <td>NaN</td>\n",
       "      <td>NaN</td>\n",
       "      <td>0.811159</td>\n",
       "      <td>0.809917</td>\n",
       "      <td>0.823529</td>\n",
       "      <td>0.859539</td>\n",
       "      <td>0.856152</td>\n",
       "      <td>0.816667</td>\n",
       "    </tr>\n",
       "  </tbody>\n",
       "</table>\n",
       "</div>"
      ],
      "text/plain": [
       "      step  elapsed_tokens  elapsed_examples  training_loss  \\\n",
       "3542  3543          312190              7086       0.021387   \n",
       "\n",
       "      training_sequence_accuracy  training_token_accuracy  validation_loss  \\\n",
       "3542                         1.0                      1.0              NaN   \n",
       "\n",
       "      validation_sequence_accuracy  validation_token_accuracy  \\\n",
       "3542                           NaN                        NaN   \n",
       "\n",
       "      classification/accuracy  classification/precision  \\\n",
       "3542                 0.811159                  0.809917   \n",
       "\n",
       "      classification/recall  classification/auroc  classification/auprc  \\\n",
       "3542               0.823529              0.859539              0.856152   \n",
       "\n",
       "      classification/f1.0  \n",
       "3542             0.816667  "
      ]
     },
     "execution_count": 9,
     "metadata": {},
     "output_type": "execute_result"
    }
   ],
   "source": [
    "results = pd.read_csv('../results/results_davinchi.csv')\n",
    "results[results['classification/accuracy'].notnull()].tail(1)"
   ]
  },
  {
   "cell_type": "code",
   "execution_count": 10,
   "metadata": {},
   "outputs": [
    {
     "data": {
      "text/plain": [
       "<AxesSubplot:>"
      ]
     },
     "execution_count": 10,
     "metadata": {},
     "output_type": "execute_result"
    },
    {
     "data": {
      "image/png": "[encoded data removed]",
      "text/plain": [
       "<Figure size 640x480 with 1 Axes>"
      ]
     },
     "metadata": {},
     "output_type": "display_data"
    }
   ],
   "source": [
    "results[results['classification/accuracy'].notnull()]['classification/accuracy'].plot()"
   ]
  },
  {
   "cell_type": "code",
   "execution_count": 11,
   "metadata": {},
   "outputs": [
    {
     "data": {
      "text/plain": [
       "<AxesSubplot:>"
      ]
     },
     "execution_count": 11,
     "metadata": {},
     "output_type": "execute_result"
    },
    {
     "data": {
      "image/png": "[encoded data removed]",
      "text/plain": [
       "<Figure size 640x480 with 1 Axes>"
      ]
     },
     "metadata": {},
     "output_type": "display_data"
    }
   ],
   "source": [
    "results[results['validation_loss'].notnull()]['validation_loss'].plot()"
   ]
  },
  {
   "attachments": {},
   "cell_type": "markdown",
   "metadata": {},
   "source": [
    "Using the model"
   ]
  },
  {
   "cell_type": "code",
   "execution_count": 12,
   "metadata": {},
   "outputs": [
    {
     "data": {
      "text/html": [
       "<div>\n",
       "<style scoped>\n",
       "    .dataframe tbody tr th:only-of-type {\n",
       "        vertical-align: middle;\n",
       "    }\n",
       "\n",
       "    .dataframe tbody tr th {\n",
       "        vertical-align: top;\n",
       "    }\n",
       "\n",
       "    .dataframe thead th {\n",
       "        text-align: right;\n",
       "    }\n",
       "</style>\n",
       "<table border=\"1\" class=\"dataframe\">\n",
       "  <thead>\n",
       "    <tr style=\"text-align: right;\">\n",
       "      <th></th>\n",
       "      <th>prompt</th>\n",
       "      <th>completion</th>\n",
       "    </tr>\n",
       "  </thead>\n",
       "  <tbody>\n",
       "    <tr>\n",
       "      <th>0</th>\n",
       "      <td>1 horrible cunt that Ross Barkley. 2 bad tackl...</td>\n",
       "      <td>1</td>\n",
       "    </tr>\n",
       "    <tr>\n",
       "      <th>1</th>\n",
       "      <td>Parents:\\n\\nIf YOU do not teach your children ...</td>\n",
       "      <td>1</td>\n",
       "    </tr>\n",
       "    <tr>\n",
       "      <th>2</th>\n",
       "      <td>The kikes probably put the Leftist up to it , ...</td>\n",
       "      <td>1</td>\n",
       "    </tr>\n",
       "    <tr>\n",
       "      <th>3</th>\n",
       "      <td>\"Just when you think the Swans are dead and bu...</td>\n",
       "      <td>0</td>\n",
       "    </tr>\n",
       "    <tr>\n",
       "      <th>4</th>\n",
       "      <td>It is people like James O'Keefe and Project Ve...</td>\n",
       "      <td>0</td>\n",
       "    </tr>\n",
       "  </tbody>\n",
       "</table>\n",
       "</div>"
      ],
      "text/plain": [
       "                                              prompt  completion\n",
       "0  1 horrible cunt that Ross Barkley. 2 bad tackl...           1\n",
       "1  Parents:\\n\\nIf YOU do not teach your children ...           1\n",
       "2  The kikes probably put the Leftist up to it , ...           1\n",
       "3  \"Just when you think the Swans are dead and bu...           0\n",
       "4  It is people like James O'Keefe and Project Ve...           0"
      ]
     },
     "execution_count": 12,
     "metadata": {},
     "output_type": "execute_result"
    }
   ],
   "source": [
    "test = pd.read_json('../data/SBIC.v2.agg.tst.tiny.promted_prepared.jsonl',orient='records',lines=True)\n",
    "test.head()"
   ]
  },
  {
   "cell_type": "code",
   "execution_count": 13,
   "metadata": {},
   "outputs": [
    {
     "data": {
      "text/plain": [
       "' 1'"
      ]
     },
     "execution_count": 13,
     "metadata": {},
     "output_type": "execute_result"
    }
   ],
   "source": [
    "import openai\n",
    "\n",
    "ft_model = 'davinci:ft-personal-2023-05-07-12-34-28'\n",
    "res = openai.Completion.create(model=ft_model, prompt=test['prompt'][2], max_tokens=1, temperature=0)\n",
    "res['choices'][0]['text']"
   ]
  },
  {
   "cell_type": "code",
   "execution_count": 14,
   "metadata": {},
   "outputs": [
    {
     "name": "stdout",
     "output_type": "stream",
     "text": [
      "The kikes probably put the Leftist up to it , to make it seem like they do n't have total control of everyone .\n",
      "\n",
      "###\n",
      "\n",
      "\n"
     ]
    },
    {
     "data": {
      "text/plain": [
       "<OpenAIObject at 0x1fa90c3d940> JSON: {\n",
       "  \" 0\": -11.771873,\n",
       "  \" 1\": -3.988961e-05\n",
       "}"
      ]
     },
     "execution_count": 14,
     "metadata": {},
     "output_type": "execute_result"
    }
   ],
   "source": [
    "print(test['prompt'][2])\n",
    "res = openai.Completion.create(model=ft_model, prompt=test['prompt'][2], max_tokens=1, temperature=0, logprobs=2)\n",
    "res['choices'][0]['logprobs']['top_logprobs'][0]"
   ]
  }
 ],
 "metadata": {
  "kernelspec": {
   "display_name": "Python 3",
   "language": "python",
   "name": "python3"
  },
  "language_info": {
   "codemirror_mode": {
    "name": "ipython",
    "version": 3
   },
   "file_extension": ".py",
   "mimetype": "text/x-python",
   "name": "python",
   "nbconvert_exporter": "python",
   "pygments_lexer": "ipython3",
   "version": "3.10.7"
  },
  "orig_nbformat": 4
 },
 "nbformat": 4,
 "nbformat_minor": 2
}
